{
 "cells": [
  {
   "cell_type": "code",
   "execution_count": 30,
   "metadata": {
    "collapsed": true,
    "pycharm": {
     "name": "#%%\n"
    }
   },
   "outputs": [],
   "source": [
    "import plotly.graph_objects as go\n",
    "import pandas as pd\n",
    "import datetime\n",
    "import numpy as np\n",
    "import dash\n",
    "import dash_core_components as dcc\n",
    "import dash_html_components as html\n",
    "import dash_bootstrap_components as dbc\n",
    "import pyodbc\n",
    "import sqlalchemy\n",
    "import urllib\n",
    "\n",
    "\n",
    "conn = pyodbc.connect('DRIVER={ODBC Driver 17 for SQL Server};'\n",
    "                      'SERVER=SV-GEOSCADA\\SQLEXPRESS;'\n",
    "                      'DATABASE=loadForecast;'\n",
    "                      'Trusted_Connection=yes;')\n",
    "\n",
    "params = urllib.parse.quote_plus(\"DRIVER={ODBC Driver 17 for SQL Server};SERVER=SV-GEOSCADA\\SQLEXPRESS;DATABASE=loadForecast;Trusted_Connection=yes\")\n",
    "\n",
    "engine = sqlalchemy.create_engine(\"mssql+pyodbc:///?odbc_connect=%s\" % params)\n",
    "\n",
    "# write SQL tables to dataframes\n",
    "well_query = pd.read_sql_query('''SELECT WID, DOFP, wellName, project, prodArea, meter, bench, liftType, gen, LT1, LTD1 from dbo.test''', conn)\n",
    "curve_query = pd.read_sql_query('''SELECT LS_300, LS_240, HA_300, HA_240, HA_180, HB_300, HB_180  from dbo.loadcurves''', conn)\n",
    "\n",
    "welldf = pd.DataFrame(well_query, columns=['WID', 'DOFP', 'wellName', 'project', 'prodArea', 'meter', 'bench', 'liftType', 'gen', 'LT1', 'LTD1'])\n",
    "curvedf = pd.DataFrame(curve_query, columns=['LS_300', 'LS_240', 'HA_300', 'HA_240', 'HA_180', 'HB_300', 'HB_180'])\n",
    "\n",
    "# close SQL Server connection\n",
    "conn.close()\n",
    "\n",
    "well_list = welldf['WID'].tolist()\n",
    "\n",
    "LS300_list = curvedf['LS_300'].tolist()\n",
    "LS240_list = curvedf['LS_240'].tolist()\n",
    "HA300_list = curvedf['HA_300'].tolist()\n",
    "HA240_list = curvedf['HA_240'].tolist()\n",
    "HA180_list = curvedf['HA_180'].tolist()\n",
    "HB300_list = curvedf['HB_300'].tolist()\n",
    "HB180_list = curvedf['HB_180'].tolist()\n",
    "\n",
    "graphmaxdate = welldf['DOFP'].max() + datetime.timedelta(days=999)\n",
    "\n",
    "def led_function(led):\n",
    "    try:\n",
    "        ledtype = int(led)\n",
    "        return 'Integer'\n",
    "    except:\n",
    "        pass\n",
    "\n",
    "    return 'String'\n",
    "\n",
    "\n",
    "def find_loadcurve(typecurve, flatcurve, led):\n",
    "    if typecurve is not None:\n",
    "        if typecurve == 'LS_300':\n",
    "            return LS300_list\n",
    "\n",
    "        elif typecurve == 'LS_240':\n",
    "            return LS240_list\n",
    "\n",
    "        elif typecurve == 'HA_300':\n",
    "            return HA300_list\n",
    "\n",
    "        elif typecurve == 'HA_240':\n",
    "            return HA240_list\n",
    "\n",
    "        elif typecurve == 'HA_180':\n",
    "            return HA180_list\n",
    "\n",
    "        elif typecurve == 'HB_300':\n",
    "            return HB300_list\n",
    "\n",
    "        elif typecurve == 'HB_180':\n",
    "            return HB180_list\n",
    "\n",
    "    if flatcurve is not None:\n",
    "        if led_function(led) == \"Integer\":\n",
    "            flat_list = [flatcurve] * int(led)\n",
    "            return flat_list\n",
    "\n",
    "        # if user entered a string\n",
    "        elif led_function(led) == \"String\":\n",
    "            daterange = graphmaxdate - dofp + datetime.timedelta(days=1)\n",
    "            flat_list = [flatcurve] * daterange.days\n",
    "            return flat_list\n",
    "\n",
    "def find_dates(dofp):\n",
    "    #date range for wells with type curve\n",
    "    if typecurve is not None:\n",
    "        maxdate = dofp + datetime.timedelta(days=999)\n",
    "        date_range = pd.date_range(dofp, maxdate)\n",
    "        return date_range\n",
    "    #date range for wells with a flat curve\n",
    "    else:\n",
    "        #Integer\n",
    "        if led_function(led) == \"Integer\":\n",
    "            maxdate = dofp + datetime.timedelta(days=(int(led)-1))\n",
    "            date_range = pd.date_range(dofp, maxdate)\n",
    "            return date_range\n",
    "        #String\n",
    "        else:\n",
    "            maxdate = graphmaxdate\n",
    "            date_range = pd.date_range(dofp, maxdate)\n",
    "            return date_range\n"
   ]
  },
  {
   "cell_type": "code",
   "execution_count": 37,
   "outputs": [
    {
     "data": {
      "text/plain": "           DOFP     WID      Load\n0    2020-01-01  100317  291.4875\n1    2020-01-02  100317  346.5950\n2    2020-01-03  100317  354.3900\n3    2020-01-04  100317  358.6100\n4    2020-01-05  100317  380.9425\n...         ...     ...       ...\n9013 2022-10-01  500004   20.0000\n9014 2022-10-02  500004   20.0000\n9015 2022-10-03  500004   20.0000\n9016 2022-10-04  500004   20.0000\n9017 2022-10-05  500004   20.0000\n\n[9018 rows x 3 columns]",
      "text/html": "<div>\n<style scoped>\n    .dataframe tbody tr th:only-of-type {\n        vertical-align: middle;\n    }\n\n    .dataframe tbody tr th {\n        vertical-align: top;\n    }\n\n    .dataframe thead th {\n        text-align: right;\n    }\n</style>\n<table border=\"1\" class=\"dataframe\">\n  <thead>\n    <tr style=\"text-align: right;\">\n      <th></th>\n      <th>DOFP</th>\n      <th>WID</th>\n      <th>Load</th>\n    </tr>\n  </thead>\n  <tbody>\n    <tr>\n      <th>0</th>\n      <td>2020-01-01</td>\n      <td>100317</td>\n      <td>291.4875</td>\n    </tr>\n    <tr>\n      <th>1</th>\n      <td>2020-01-02</td>\n      <td>100317</td>\n      <td>346.5950</td>\n    </tr>\n    <tr>\n      <th>2</th>\n      <td>2020-01-03</td>\n      <td>100317</td>\n      <td>354.3900</td>\n    </tr>\n    <tr>\n      <th>3</th>\n      <td>2020-01-04</td>\n      <td>100317</td>\n      <td>358.6100</td>\n    </tr>\n    <tr>\n      <th>4</th>\n      <td>2020-01-05</td>\n      <td>100317</td>\n      <td>380.9425</td>\n    </tr>\n    <tr>\n      <th>...</th>\n      <td>...</td>\n      <td>...</td>\n      <td>...</td>\n    </tr>\n    <tr>\n      <th>9013</th>\n      <td>2022-10-01</td>\n      <td>500004</td>\n      <td>20.0000</td>\n    </tr>\n    <tr>\n      <th>9014</th>\n      <td>2022-10-02</td>\n      <td>500004</td>\n      <td>20.0000</td>\n    </tr>\n    <tr>\n      <th>9015</th>\n      <td>2022-10-03</td>\n      <td>500004</td>\n      <td>20.0000</td>\n    </tr>\n    <tr>\n      <th>9016</th>\n      <td>2022-10-04</td>\n      <td>500004</td>\n      <td>20.0000</td>\n    </tr>\n    <tr>\n      <th>9017</th>\n      <td>2022-10-05</td>\n      <td>500004</td>\n      <td>20.0000</td>\n    </tr>\n  </tbody>\n</table>\n<p>9018 rows × 3 columns</p>\n</div>"
     },
     "execution_count": 37,
     "metadata": {},
     "output_type": "execute_result"
    }
   ],
   "source": [
    "sumdf = pd.DataFrame()\n",
    "\n",
    "for i in well_list:\n",
    "    resultdf = pd.DataFrame()\n",
    "\n",
    "    wellindex = welldf.loc[welldf['WID'] == i].index.item()\n",
    "    typecurve = welldf.iloc[wellindex, 7]\n",
    "    gendays = welldf.iloc[wellindex, 8]\n",
    "    flatcurve = welldf.iloc[wellindex, 9]\n",
    "    led = welldf.iloc[wellindex, 10]\n",
    "\n",
    "    dofp = welldf.iloc[wellindex, 1]\n",
    "    dates_list = find_dates(dofp)\n",
    "\n",
    "    wid_list = [i] * len(dates_list)\n",
    "\n",
    "    loadcurve_list = find_loadcurve(typecurve, flatcurve, led)\n",
    "\n",
    "    if np.isnan(gendays) == False:\n",
    "        gendays = int(gendays)\n",
    "        gen_zeros = [0] * gendays\n",
    "        loadcurve_list[:gendays] = gen_zeros\n",
    "\n",
    "    resultdf = pd.DataFrame({'DOFP': dates_list, 'WID': wid_list, 'Load': loadcurve_list})\n",
    "\n",
    "    sumdf = sumdf.append(resultdf, ignore_index=True)\n",
    "\n",
    "sumdf\n"
   ],
   "metadata": {
    "collapsed": false,
    "pycharm": {
     "name": "#%%\n"
    }
   }
  },
  {
   "cell_type": "code",
   "execution_count": null,
   "outputs": [],
   "source": [
    "i = 100327\n",
    "resultdf = pd.DataFrame()\n",
    "\n",
    "wellindex = welldf.loc[welldf['WID'] == i].index.item()\n",
    "typecurve = welldf.iloc[wellindex, 7]\n",
    "gendays = welldf.iloc[wellindex, 8]\n",
    "flatcurve = welldf.iloc[wellindex, 9]\n",
    "led = welldf.iloc[wellindex, 10]\n",
    "\n",
    "dofp = welldf.iloc[wellindex, 1]\n",
    "dates_list = find_dates(dofp)\n",
    "\n",
    "wid_list = [i] * len(dates_list)\n",
    "\n",
    "loadcurve_list = find_loadcurve(typecurve, flatcurve, led)\n",
    "\n",
    "if np.isnan(gendays) == False:\n",
    "    gendays = int(gendays)\n",
    "    gen_zeros = [0] * gendays\n",
    "    loadcurve_list[:gendays] = gen_zeros\n",
    "\n",
    "resultdf = pd.DataFrame({'DOFP': dates_list, 'WID': wid_list, 'Load': loadcurve_list})\n",
    "\n",
    "sumdf = sumdf.append(resultdf, ignore_index=True)\n",
    "\n",
    "print(len(dates_list))\n",
    "print(len(wid_list))\n",
    "print(len(loadcurve_list))\n",
    "print(loadcurve_list)"
   ],
   "metadata": {
    "collapsed": false,
    "pycharm": {
     "name": "#%%\n"
    }
   }
  },
  {
   "cell_type": "code",
   "execution_count": null,
   "outputs": [],
   "source": [
    "\n"
   ],
   "metadata": {
    "collapsed": false,
    "pycharm": {
     "name": "#%%\n"
    }
   }
  }
 ],
 "metadata": {
  "kernelspec": {
   "display_name": "Python 3",
   "language": "python",
   "name": "python3"
  },
  "language_info": {
   "codemirror_mode": {
    "name": "ipython",
    "version": 2
   },
   "file_extension": ".py",
   "mimetype": "text/x-python",
   "name": "python",
   "nbconvert_exporter": "python",
   "pygments_lexer": "ipython2",
   "version": "2.7.6"
  }
 },
 "nbformat": 4,
 "nbformat_minor": 0
}