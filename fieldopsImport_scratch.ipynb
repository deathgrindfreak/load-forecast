{
 "cells": [
  {
   "cell_type": "code",
   "execution_count": 1,
   "outputs": [],
   "source": [
    "import pyodbc\n",
    "import pandas as pd"
   ],
   "metadata": {
    "collapsed": false,
    "pycharm": {
     "name": "#%%\n"
    }
   }
  },
  {
   "cell_type": "code",
   "execution_count": 2,
   "metadata": {
    "collapsed": true
   },
   "outputs": [],
   "source": [
    "conn = pyodbc.connect('DRIVER={ODBC Driver 17 for SQL Server};'\n",
    "                      'SERVER=fieldoperations;'\n",
    "                      'DATABASE=five_tools;'\n",
    "                      'Trusted_Connection=yes;')\n",
    "\n",
    "welldf = pd.read_sql_query('''SELECT WID, wellName, project, prodArea, bench from dbo.well''', conn)\n",
    "\n",
    "scheduledf = pd.read_sql_query('''SELECT WID, DOFP FROM dbo.playgroundscenario''', conn)\n",
    "\n",
    "conn.close()\n"
   ]
  },
  {
   "cell_type": "code",
   "execution_count": 3,
   "outputs": [
    {
     "data": {
      "text/plain": "      WID               wellName              project   prodArea bench DOFP  \\\n0  100000          Nail D-11 #1H             Toe Nail       Nail   WCB  NaN   \n1  100001       Bent Nail 36 #1H             Box Nail       Nail   WCB  NaN   \n2  100002  Wilkinson Ranch #351H  Bigtooth Maple (WR)  Wilkinson   WCA  NaN   \n3  100003      S Wilkinson #181H           Tall Grass  Wilkinson   WCA  NaN   \n4  100004      S Wilkinson #191H              Seaoats  Wilkinson  WCAA  NaN   \n5  100005     Guitar Galusha #1H       Guitar Galusha    Matador   WCA  NaN   \n6  100006       Gratis 32 R #1HB               Gratis    Matador   WCB  NaN   \n7  100007      Bent Nail 36 #2HA             Box Nail       Nail   WCA  NaN   \n8  100008             Craig #1HS           Craig East       Troy  LSBL  NaN   \n9  100009             Craig #1HB           Craig East       Troy   WCB  NaN   \n\n  liftType  \n0           \n1           \n2           \n3           \n4           \n5           \n6           \n7           \n8           \n9           ",
      "text/html": "<div>\n<style scoped>\n    .dataframe tbody tr th:only-of-type {\n        vertical-align: middle;\n    }\n\n    .dataframe tbody tr th {\n        vertical-align: top;\n    }\n\n    .dataframe thead th {\n        text-align: right;\n    }\n</style>\n<table border=\"1\" class=\"dataframe\">\n  <thead>\n    <tr style=\"text-align: right;\">\n      <th></th>\n      <th>WID</th>\n      <th>wellName</th>\n      <th>project</th>\n      <th>prodArea</th>\n      <th>bench</th>\n      <th>DOFP</th>\n      <th>liftType</th>\n    </tr>\n  </thead>\n  <tbody>\n    <tr>\n      <th>0</th>\n      <td>100000</td>\n      <td>Nail D-11 #1H</td>\n      <td>Toe Nail</td>\n      <td>Nail</td>\n      <td>WCB</td>\n      <td>NaN</td>\n      <td></td>\n    </tr>\n    <tr>\n      <th>1</th>\n      <td>100001</td>\n      <td>Bent Nail 36 #1H</td>\n      <td>Box Nail</td>\n      <td>Nail</td>\n      <td>WCB</td>\n      <td>NaN</td>\n      <td></td>\n    </tr>\n    <tr>\n      <th>2</th>\n      <td>100002</td>\n      <td>Wilkinson Ranch #351H</td>\n      <td>Bigtooth Maple (WR)</td>\n      <td>Wilkinson</td>\n      <td>WCA</td>\n      <td>NaN</td>\n      <td></td>\n    </tr>\n    <tr>\n      <th>3</th>\n      <td>100003</td>\n      <td>S Wilkinson #181H</td>\n      <td>Tall Grass</td>\n      <td>Wilkinson</td>\n      <td>WCA</td>\n      <td>NaN</td>\n      <td></td>\n    </tr>\n    <tr>\n      <th>4</th>\n      <td>100004</td>\n      <td>S Wilkinson #191H</td>\n      <td>Seaoats</td>\n      <td>Wilkinson</td>\n      <td>WCAA</td>\n      <td>NaN</td>\n      <td></td>\n    </tr>\n    <tr>\n      <th>5</th>\n      <td>100005</td>\n      <td>Guitar Galusha #1H</td>\n      <td>Guitar Galusha</td>\n      <td>Matador</td>\n      <td>WCA</td>\n      <td>NaN</td>\n      <td></td>\n    </tr>\n    <tr>\n      <th>6</th>\n      <td>100006</td>\n      <td>Gratis 32 R #1HB</td>\n      <td>Gratis</td>\n      <td>Matador</td>\n      <td>WCB</td>\n      <td>NaN</td>\n      <td></td>\n    </tr>\n    <tr>\n      <th>7</th>\n      <td>100007</td>\n      <td>Bent Nail 36 #2HA</td>\n      <td>Box Nail</td>\n      <td>Nail</td>\n      <td>WCA</td>\n      <td>NaN</td>\n      <td></td>\n    </tr>\n    <tr>\n      <th>8</th>\n      <td>100008</td>\n      <td>Craig #1HS</td>\n      <td>Craig East</td>\n      <td>Troy</td>\n      <td>LSBL</td>\n      <td>NaN</td>\n      <td></td>\n    </tr>\n    <tr>\n      <th>9</th>\n      <td>100009</td>\n      <td>Craig #1HB</td>\n      <td>Craig East</td>\n      <td>Troy</td>\n      <td>WCB</td>\n      <td>NaN</td>\n      <td></td>\n    </tr>\n  </tbody>\n</table>\n</div>"
     },
     "execution_count": 3,
     "metadata": {},
     "output_type": "execute_result"
    }
   ],
   "source": [
    "masterdf = welldf.merge(scheduledf, on='WID', how='left')\n",
    "masterdf[\"liftType\"] = \"\"\n",
    "#zero_list = [0] * len(masterdf['WID'])\n",
    "\n",
    "#masterdf['liftType'] = zero_list\n",
    "\n",
    "wid_list = masterdf['WID'].to_list()\n",
    "\n",
    "masterdf.head(10)"
   ],
   "metadata": {
    "collapsed": false,
    "pycharm": {
     "name": "#%%\n"
    }
   }
  },
  {
   "cell_type": "code",
   "execution_count": 48,
   "outputs": [],
   "source": [
    "for i in wid_list:\n",
    "    index = masterdf.loc[masterdf['WID'] == i].index.item()\n",
    "    if masterdf.iloc[index,4] == 'WCB':\n",
    "        masterdf.at[index, 'liftType'] = 'HB_240'\n",
    "\n",
    "    elif masterdf.iloc[index,4] == 'WCB2':\n",
    "        masterdf.at[index, 'liftType'] = 'HB_240'\n",
    "\n",
    "    elif masterdf.iloc[index,4] == 'WCB3':\n",
    "        masterdf.at[index, 'liftType'] = 'HB_240'\n",
    "\n",
    "    elif masterdf.iloc[index,4] == 'WCC':\n",
    "        masterdf.at[index, 'liftType'] = 'HB_240'\n",
    "\n",
    "    elif masterdf.iloc[index,4] == 'WCA':\n",
    "        masterdf.at[index, 'liftType'] = 'HA_240'\n",
    "\n",
    "    elif masterdf.iloc[index,4] == 'WCAA':\n",
    "        masterdf.at[index, 'liftType'] = 'HA_240'\n",
    "\n",
    "    elif masterdf.iloc[index,4] == 'DN':\n",
    "        masterdf.at[index, 'liftType'] = 'HA_240'\n",
    "\n",
    "    elif masterdf.iloc[index,4] == 'MSBY':\n",
    "        masterdf.at[index, 'liftType'] = 'LS_240'\n",
    "\n",
    "    elif masterdf.iloc[index,4] == 'JM':\n",
    "        masterdf.at[index, 'liftType'] = 'LS_240'\n",
    "\n",
    "    elif masterdf.iloc[index,4] == 'CLN':\n",
    "        masterdf.at[index, 'liftType'] = 'LS_240'\n",
    "\n",
    "    elif masterdf.iloc[index,4] == 'LSBL':\n",
    "        masterdf.at[index, 'liftType'] = 'LS_240'\n",
    "\n",
    "    elif masterdf.iloc[index,4] == 'LSBU':\n",
    "        masterdf.at[index, 'liftType'] = 'LS_240'\n",
    "\n",
    "masterdf[\"gen\"] = \"\"\n",
    "masterdf[\"LT1\"] = \"\"\n",
    "masterdf[\"LTD1\"] = \"\"\n",
    "masterdf[\"LT2\"] = \"\"\n",
    "masterdf[\"LTD2\"] = \"\"\n",
    "masterdf[\"LT3\"] = \"\"\n",
    "masterdf[\"LTD3\"] = \"\"\n",
    "masterdf[\"meter\"] = \"\"\n",
    "\n",
    "masterdf.to_excel(r'C:\\Users\\bbell\\Desktop\\masterforecastDB.xlsx')"
   ],
   "metadata": {
    "collapsed": false,
    "pycharm": {
     "name": "#%%\n"
    }
   }
  },
  {
   "cell_type": "code",
   "execution_count": null,
   "outputs": [],
   "source": [
    "\n"
   ],
   "metadata": {
    "collapsed": false,
    "pycharm": {
     "name": "#%%\n"
    }
   }
  }
 ],
 "metadata": {
  "kernelspec": {
   "display_name": "Python 3",
   "language": "python",
   "name": "python3"
  },
  "language_info": {
   "codemirror_mode": {
    "name": "ipython",
    "version": 2
   },
   "file_extension": ".py",
   "mimetype": "text/x-python",
   "name": "python",
   "nbconvert_exporter": "python",
   "pygments_lexer": "ipython2",
   "version": "2.7.6"
  }
 },
 "nbformat": 4,
 "nbformat_minor": 0
}